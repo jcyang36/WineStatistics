{
 "cells": [
  {
   "cell_type": "code",
   "execution_count": 123,
   "metadata": {},
   "outputs": [],
   "source": [
    "import csv"
   ]
  },
  {
   "cell_type": "code",
   "execution_count": 124,
   "metadata": {},
   "outputs": [],
   "source": [
    "with open(\"wine-data.csv\",'r', encoding='utf-8') as file:\n",
    "    wines=list(csv.reader(file))"
   ]
  },
  {
   "cell_type": "code",
   "execution_count": 110,
   "metadata": {},
   "outputs": [
    {
     "data": {
      "text/plain": [
       "[['',\n",
       "  'country',\n",
       "  'description',\n",
       "  'designation',\n",
       "  'points',\n",
       "  'price',\n",
       "  'province',\n",
       "  'region_1',\n",
       "  'region_2',\n",
       "  'taster_name',\n",
       "  'taster_twitter_handle',\n",
       "  'title',\n",
       "  'variety',\n",
       "  'winery'],\n",
       " ['0',\n",
       "  'Italy',\n",
       "  \"Aromas include tropical fruit, broom, brimstone and dried herb. The palate isn't overly expressive, offering unripened apple, citrus and dried sage alongside brisk acidity.\",\n",
       "  'Vulkà Bianco',\n",
       "  '87',\n",
       "  '',\n",
       "  'Sicily & Sardinia',\n",
       "  'Etna',\n",
       "  '',\n",
       "  'Kerin O’Keefe',\n",
       "  '@kerinokeefe',\n",
       "  'Nicosia 2013 Vulkà Bianco  (Etna)',\n",
       "  'White Blend',\n",
       "  'Nicosia'],\n",
       " ['1',\n",
       "  'Portugal',\n",
       "  \"This is ripe and fruity, a wine that is smooth while still structured. Firm tannins are filled out with juicy red berry fruits and freshened with acidity. It's  already drinkable, although it will certainly be better from 2016.\",\n",
       "  'Avidagos',\n",
       "  '87',\n",
       "  '15.0',\n",
       "  'Douro',\n",
       "  '',\n",
       "  '',\n",
       "  'Roger Voss',\n",
       "  '@vossroger',\n",
       "  'Quinta dos Avidagos 2011 Avidagos Red (Douro)',\n",
       "  'Portuguese Red',\n",
       "  'Quinta dos Avidagos'],\n",
       " ['2',\n",
       "  'US',\n",
       "  'Tart and snappy, the flavors of lime flesh and rind dominate. Some green pineapple pokes through, with crisp acidity underscoring the flavors. The wine was all stainless-steel fermented.',\n",
       "  '',\n",
       "  '87',\n",
       "  '14.0',\n",
       "  'Oregon',\n",
       "  'Willamette Valley',\n",
       "  'Willamette Valley',\n",
       "  'Paul Gregutt',\n",
       "  '@paulgwine\\xa0',\n",
       "  'Rainstorm 2013 Pinot Gris (Willamette Valley)',\n",
       "  'Pinot Gris',\n",
       "  'Rainstorm'],\n",
       " ['3',\n",
       "  'US',\n",
       "  'Pineapple rind, lemon pith and orange blossom start off the aromas. The palate is a bit more opulent, with notes of honey-drizzled guava and mango giving way to a slightly astringent, semidry finish.',\n",
       "  'Reserve Late Harvest',\n",
       "  '87',\n",
       "  '13.0',\n",
       "  'Michigan',\n",
       "  'Lake Michigan Shore',\n",
       "  '',\n",
       "  'Alexander Peartree',\n",
       "  '',\n",
       "  'St. Julian 2013 Reserve Late Harvest Riesling (Lake Michigan Shore)',\n",
       "  'Riesling',\n",
       "  'St. Julian']]"
      ]
     },
     "execution_count": 110,
     "metadata": {},
     "output_type": "execute_result"
    }
   ],
   "source": [
    "wines[:5]"
   ]
  },
  {
   "cell_type": "code",
   "execution_count": 129,
   "metadata": {},
   "outputs": [],
   "source": [
    "scores=[float(w[4]) for w in wines[1:]]"
   ]
  },
  {
   "cell_type": "code",
   "execution_count": 130,
   "metadata": {},
   "outputs": [
    {
     "data": {
      "text/plain": [
       "129971"
      ]
     },
     "execution_count": 130,
     "metadata": {},
     "output_type": "execute_result"
    }
   ],
   "source": [
    "len(scores)"
   ]
  },
  {
   "cell_type": "code",
   "execution_count": 131,
   "metadata": {
    "scrolled": true
   },
   "outputs": [
    {
     "data": {
      "text/plain": [
       "list"
      ]
     },
     "execution_count": 131,
     "metadata": {},
     "output_type": "execute_result"
    }
   ],
   "source": [
    "type(scores)"
   ]
  },
  {
   "cell_type": "code",
   "execution_count": 132,
   "metadata": {},
   "outputs": [],
   "source": [
    "sum_score=0\n",
    "total= 0\n",
    "for s in scores:\n",
    "    sum_score+=float(s)"
   ]
  },
  {
   "cell_type": "code",
   "execution_count": 59,
   "metadata": {},
   "outputs": [
    {
     "data": {
      "text/plain": [
       "11495476.0"
      ]
     },
     "execution_count": 59,
     "metadata": {},
     "output_type": "execute_result"
    }
   ],
   "source": [
    "sum_score"
   ]
  },
  {
   "cell_type": "code",
   "execution_count": 60,
   "metadata": {},
   "outputs": [],
   "source": [
    "avg_score=sum_score/129972"
   ]
  },
  {
   "cell_type": "code",
   "execution_count": 61,
   "metadata": {},
   "outputs": [
    {
     "data": {
      "text/plain": [
       "88.44578832363894"
      ]
     },
     "execution_count": 61,
     "metadata": {},
     "output_type": "execute_result"
    }
   ],
   "source": [
    "avg_score"
   ]
  },
  {
   "cell_type": "code",
   "execution_count": 133,
   "metadata": {},
   "outputs": [],
   "source": [
    "scores.sort()"
   ]
  },
  {
   "cell_type": "code",
   "execution_count": 134,
   "metadata": {},
   "outputs": [],
   "source": [
    "middle=int((len(wines)-1)/2)"
   ]
  },
  {
   "cell_type": "code",
   "execution_count": 135,
   "metadata": {},
   "outputs": [
    {
     "name": "stdout",
     "output_type": "stream",
     "text": [
      "64985\n"
     ]
    }
   ],
   "source": [
    "print(middle)"
   ]
  },
  {
   "cell_type": "code",
   "execution_count": 141,
   "metadata": {},
   "outputs": [
    {
     "data": {
      "text/plain": [
       "88.0"
      ]
     },
     "execution_count": 141,
     "metadata": {},
     "output_type": "execute_result"
    }
   ],
   "source": [
    "scores[middle]"
   ]
  },
  {
   "cell_type": "code",
   "execution_count": 142,
   "metadata": {
    "scrolled": true
   },
   "outputs": [],
   "source": [
    "other_max=0\n",
    "other_min=100\n",
    "\n",
    "for point in scores:\n",
    "    if point>other_max:\n",
    "        other_max=point\n",
    "    if point<other_min:\n",
    "        other_min=point"
   ]
  },
  {
   "cell_type": "code",
   "execution_count": 143,
   "metadata": {},
   "outputs": [
    {
     "data": {
      "text/plain": [
       "100.0"
      ]
     },
     "execution_count": 143,
     "metadata": {},
     "output_type": "execute_result"
    }
   ],
   "source": [
    "other_max"
   ]
  },
  {
   "cell_type": "code",
   "execution_count": 144,
   "metadata": {},
   "outputs": [
    {
     "data": {
      "text/plain": [
       "80.0"
      ]
     },
     "execution_count": 144,
     "metadata": {},
     "output_type": "execute_result"
    }
   ],
   "source": [
    "other_min"
   ]
  },
  {
   "cell_type": "code",
   "execution_count": 145,
   "metadata": {},
   "outputs": [],
   "source": [
    "score_counts={}\n",
    "for point in scores:\n",
    "    if point not in score_counts:\n",
    "        score_counts[point]=1\n",
    "    else:\n",
    "        score_counts[point]+=1"
   ]
  },
  {
   "cell_type": "code",
   "execution_count": 147,
   "metadata": {},
   "outputs": [
    {
     "data": {
      "text/plain": [
       "{80.0: 397,\n",
       " 81.0: 692,\n",
       " 82.0: 1836,\n",
       " 83.0: 3025,\n",
       " 84.0: 6480,\n",
       " 85.0: 9530,\n",
       " 86.0: 12600,\n",
       " 87.0: 16933,\n",
       " 88.0: 17207,\n",
       " 89.0: 12226,\n",
       " 90.0: 15410,\n",
       " 91.0: 11359,\n",
       " 92.0: 9613,\n",
       " 93.0: 6489,\n",
       " 94.0: 3758,\n",
       " 95.0: 1535,\n",
       " 96.0: 523,\n",
       " 97.0: 229,\n",
       " 98.0: 77,\n",
       " 99.0: 33,\n",
       " 100.0: 19}"
      ]
     },
     "execution_count": 147,
     "metadata": {},
     "output_type": "execute_result"
    }
   ],
   "source": [
    "score_counts"
   ]
  },
  {
   "cell_type": "code",
   "execution_count": 156,
   "metadata": {},
   "outputs": [],
   "source": [
    "max_count=0\n",
    "for freq in score_counts.values():\n",
    "    if freq>max_count:\n",
    "        max_count=freq\n",
    "mode_list=[]\n",
    "for point,freq in score_counts.items():\n",
    "    if freq==max_count:\n",
    "        mode_list.append(point)\n",
    "        \n",
    "    "
   ]
  },
  {
   "cell_type": "code",
   "execution_count": 157,
   "metadata": {},
   "outputs": [
    {
     "name": "stdout",
     "output_type": "stream",
     "text": [
      "The mode is 88.0 and was seen 17207 times.\n"
     ]
    }
   ],
   "source": [
    "if len(mode_list)==1:\n",
    "    print(f\"The mode is {mode_list[0]} and was seen {max_count} times.\")\n",
    "else:\n",
    "    message=\"The modes are \"\n",
    "    for mode in mode_list:\n",
    "        message+=f\"{mode},\" \n",
    "    message += f\"and were seen {max_count} times.\"\n",
    "    print(message)"
   ]
  },
  {
   "cell_type": "code",
   "execution_count": 173,
   "metadata": {},
   "outputs": [],
   "source": [
    "total_diffs=0\n",
    "\n",
    "for point in scores:\n",
    "    diff=(point-avg_score)**2\n",
    "    total_diffs+=diff\n",
    "var_scores=(total_diffs)/(len(scores)-1)\n",
    "std=var_scores**0.5"
   ]
  },
  {
   "cell_type": "code",
   "execution_count": 174,
   "metadata": {},
   "outputs": [
    {
     "data": {
      "text/plain": [
       "3.039730502646556"
      ]
     },
     "execution_count": 174,
     "metadata": {},
     "output_type": "execute_result"
    }
   ],
   "source": [
    "std"
   ]
  },
  {
   "cell_type": "code",
   "execution_count": 184,
   "metadata": {},
   "outputs": [],
   "source": [
    "num_wines=len(wines)-1"
   ]
  },
  {
   "cell_type": "code",
   "execution_count": 185,
   "metadata": {},
   "outputs": [],
   "source": [
    "Q1_pos=int(num_wines/4)\n",
    "Q3_pos=int(num_wines*3/4)"
   ]
  },
  {
   "cell_type": "code",
   "execution_count": 186,
   "metadata": {},
   "outputs": [
    {
     "data": {
      "text/plain": [
       "32492"
      ]
     },
     "execution_count": 186,
     "metadata": {},
     "output_type": "execute_result"
    }
   ],
   "source": [
    "Q1_pos"
   ]
  },
  {
   "cell_type": "code",
   "execution_count": 187,
   "metadata": {},
   "outputs": [
    {
     "data": {
      "text/plain": [
       "97478"
      ]
     },
     "execution_count": 187,
     "metadata": {},
     "output_type": "execute_result"
    }
   ],
   "source": [
    "Q3_pos"
   ]
  },
  {
   "cell_type": "code",
   "execution_count": 191,
   "metadata": {},
   "outputs": [],
   "source": [
    "sorted_scores=scores.sort()"
   ]
  },
  {
   "cell_type": "code",
   "execution_count": 194,
   "metadata": {},
   "outputs": [],
   "source": [
    "Q1=scores[Q1_pos]"
   ]
  },
  {
   "cell_type": "code",
   "execution_count": 205,
   "metadata": {},
   "outputs": [
    {
     "name": "stdout",
     "output_type": "stream",
     "text": [
      "86.0\n"
     ]
    }
   ],
   "source": [
    "print(Q1)"
   ]
  },
  {
   "cell_type": "code",
   "execution_count": 195,
   "metadata": {},
   "outputs": [],
   "source": [
    "Q3=scores[Q3_pos]"
   ]
  },
  {
   "cell_type": "code",
   "execution_count": 206,
   "metadata": {},
   "outputs": [
    {
     "name": "stdout",
     "output_type": "stream",
     "text": [
      "91.0\n"
     ]
    }
   ],
   "source": [
    "print(Q3)"
   ]
  },
  {
   "cell_type": "code",
   "execution_count": 207,
   "metadata": {},
   "outputs": [
    {
     "name": "stdout",
     "output_type": "stream",
     "text": [
      "5.0\n"
     ]
    }
   ],
   "source": [
    "IQR=Q3-Q1\n",
    "print(IQR)"
   ]
  },
  {
   "cell_type": "code",
   "execution_count": 208,
   "metadata": {},
   "outputs": [],
   "source": [
    "bottom_whisker=Q1-(1.5*IQR)"
   ]
  },
  {
   "cell_type": "code",
   "execution_count": 209,
   "metadata": {},
   "outputs": [],
   "source": [
    "top_whisker=Q3+(1.5*IQR)"
   ]
  },
  {
   "cell_type": "code",
   "execution_count": 210,
   "metadata": {},
   "outputs": [
    {
     "name": "stdout",
     "output_type": "stream",
     "text": [
      "78.5\n"
     ]
    }
   ],
   "source": [
    "print(bottom_whisker)"
   ]
  },
  {
   "cell_type": "code",
   "execution_count": 211,
   "metadata": {},
   "outputs": [
    {
     "name": "stdout",
     "output_type": "stream",
     "text": [
      "98.5\n"
     ]
    }
   ],
   "source": [
    "print(top_whisker)"
   ]
  },
  {
   "cell_type": "code",
   "execution_count": null,
   "metadata": {},
   "outputs": [],
   "source": []
  }
 ],
 "metadata": {
  "kernelspec": {
   "display_name": "Python 3",
   "language": "python",
   "name": "python3"
  },
  "language_info": {
   "codemirror_mode": {
    "name": "ipython",
    "version": 3
   },
   "file_extension": ".py",
   "mimetype": "text/x-python",
   "name": "python",
   "nbconvert_exporter": "python",
   "pygments_lexer": "ipython3",
   "version": "3.7.3"
  }
 },
 "nbformat": 4,
 "nbformat_minor": 2
}
